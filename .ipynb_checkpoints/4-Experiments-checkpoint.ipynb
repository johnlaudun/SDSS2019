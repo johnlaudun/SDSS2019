{
 "cells": [
  {
   "cell_type": "code",
   "execution_count": 1,
   "metadata": {},
   "outputs": [],
   "source": [
    "# Incantations to make graphs pretty\n",
    "%matplotlib inline\n",
    "import matplotlib.pyplot as plt\n",
    "plt.rcParams['figure.figsize'] = [12, 8]\n",
    "plt.rcParams['figure.dpi'] = 240"
   ]
  },
  {
   "cell_type": "code",
   "execution_count": 2,
   "metadata": {},
   "outputs": [],
   "source": [
    "# =-=-=-=-=-=-=-=-=-=-=\n",
    "# IMPORTS\n",
    "# =-=-=-=-=-=-=-=-=-=-=\n",
    "import re, nltk\n",
    "import pandas as pd\n",
    "import numpy as np\n",
    "from stop_words import get_stop_words\n",
    "\n",
    "stopwords = get_stop_words('en')"
   ]
  },
  {
   "cell_type": "markdown",
   "metadata": {},
   "source": [
    "## PCA"
   ]
  },
  {
   "cell_type": "code",
   "execution_count": 10,
   "metadata": {},
   "outputs": [
    {
     "data": {
      "text/plain": [
       "the    512\n",
       "a      258\n",
       "he     248\n",
       "of     172\n",
       "and    164\n",
       "dtype: int64"
      ]
     },
     "execution_count": 10,
     "metadata": {},
     "output_type": "execute_result"
    }
   ],
   "source": [
    "# Ingest and listify the complete text of the story\n",
    "text = open('texts/most_dangerous_game.txt', 'r').read()\n",
    "words = re.sub(\"[^'a-zA-Z']\",\" \", text).lower().split()\n",
    "stopped = [word for word in words if word not in stopwords]\n",
    "\n",
    "series = pd.Series(words)\n",
    "# print(series[0:5])\n",
    "frequencies = series.value_counts()\n",
    "frequencies.head()"
   ]
  },
  {
   "cell_type": "code",
   "execution_count": 11,
   "metadata": {},
   "outputs": [],
   "source": [
    "chunks = [words[x:x+100] for x in range(0, len(words), 100)]"
   ]
  },
  {
   "cell_type": "code",
   "execution_count": null,
   "metadata": {},
   "outputs": [],
   "source": []
  }
 ],
 "metadata": {
  "kernelspec": {
   "display_name": "Python 3",
   "language": "python",
   "name": "python3"
  },
  "language_info": {
   "codemirror_mode": {
    "name": "ipython",
    "version": 3
   },
   "file_extension": ".py",
   "mimetype": "text/x-python",
   "name": "python",
   "nbconvert_exporter": "python",
   "pygments_lexer": "ipython3",
   "version": "3.7.1"
  }
 },
 "nbformat": 4,
 "nbformat_minor": 2
}
