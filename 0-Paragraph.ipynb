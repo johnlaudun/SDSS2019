{
 "cells": [
  {
   "cell_type": "markdown",
   "metadata": {},
   "source": [
    "## The Paragraph\n",
    "\n",
    "The example paragraph from the talk's introduction is taken from near the very end of the short story. All the code below does is normalize the text by removing all punctuation and making all letters lowercase, then count the words, then sort the words into a dictionary, count the unique words, and show the frequencies."
   ]
  },
  {
   "cell_type": "code",
   "execution_count": 1,
   "metadata": {
    "scrolled": false
   },
   "outputs": [
    {
     "name": "stdout",
     "output_type": "stream",
     "text": [
      "91\n",
      "['a', 'a', 'across', 'again', 'ahead', 'along', 'and', 'as', 'below', 'between', 'blue', 'chateau', 'could', 'cove', 'cry', 'dashed', 'dead', 'drew', 'ever', 'far', 'feet', 'forced', 'gap', 'gap', 'gloomy', 'gray', 'ground', 'had', 'hardly', 'he', 'he', 'he', 'he', 'he', 'he', 'heard', 'hesitated', 'him', 'himself', 'hissed', 'hounds', 'hounds', 'into', 'it', 'it', 'leaped', 'nearer', 'nerve', 'nerve', 'nerve', 'of', 'of', 'on', 'out', 'pack', 'panted', 'rainsford', 'rainsford', 'rainsford', 'reached', 'rumbled', 'sea', 'sea', 'sea', 'see', 'shore', 'showed', 'stone', 'that', 'the', 'the', 'the', 'the', 'the', 'the', 'the', 'the', 'the', 'the', 'the', 'the', 'then', 'to', 'took', 'toward', 'trees', 'tumbled', 'twenty', 'up', 'was', 'when']\n",
      "64\n",
      "[('a', 2), ('across', 1), ('again', 1), ('ahead', 1), ('along', 1), ('and', 1), ('as', 1), ('below', 1), ('between', 1), ('blue', 1), ('chateau', 1), ('could', 1), ('cove', 1), ('cry', 1), ('dashed', 1), ('dead', 1), ('drew', 1), ('ever', 1), ('far', 1), ('feet', 1), ('forced', 1), ('gap', 2), ('gloomy', 1), ('gray', 1), ('ground', 1), ('had', 1), ('hardly', 1), ('he', 6), ('heard', 1), ('hesitated', 1), ('him', 1), ('himself', 1), ('hissed', 1), ('hounds', 2), ('into', 1), ('it', 2), ('leaped', 1), ('nearer', 1), ('nerve', 3), ('of', 2), ('on', 1), ('out', 1), ('pack', 1), ('panted', 1), ('rainsford', 3), ('reached', 1), ('rumbled', 1), ('sea', 3), ('see', 1), ('shore', 1), ('showed', 1), ('stone', 1), ('that', 1), ('the', 12), ('then', 1), ('to', 1), ('took', 1), ('toward', 1), ('trees', 1), ('tumbled', 1), ('twenty', 1), ('up', 1), ('was', 1), ('when', 1)]\n"
     ]
    }
   ],
   "source": [
    "import re\n",
    "\n",
    "paragraph = \"\"\"\n",
    "Rainsford had hardly tumbled to the ground when the pack took up the cry again. \n",
    "'Nerve, nerve, nerve!' he panted, as he dashed along. A blue gap showed between \n",
    "the trees dead ahead. Ever nearer drew the hounds. Rainsford forced himself on \n",
    "toward that gap. He reached it. It was the shore of the sea. Across a cove he \n",
    "could see the gloomy gray stone of the chateau. Twenty feet below him the sea \n",
    "rumbled and hissed. Rainsford hesitated. He heard the hounds. Then he leaped far \n",
    "out into the sea.\"\"\"\n",
    "\n",
    "# Just the words, sorted\n",
    "p_words = re.sub(\"[^a-zA-Z]\",\" \", paragraph).lower().split()\n",
    "print(len(p_words))\n",
    "print(sorted(p_words))\n",
    "\n",
    "# Word frequencies & uniques\n",
    "p_dict = {}\n",
    "for word in p_words:\n",
    "    try:\n",
    "        p_dict[word] += 1\n",
    "    except: \n",
    "        p_dict[word] = 1\n",
    "\n",
    "frequencies = [(k, v) for k, v in p_dict.items()]\n",
    "print(len(frequencies))\n",
    "print(sorted(frequencies))"
   ]
  }
 ],
 "metadata": {
  "kernelspec": {
   "display_name": "Python 3",
   "language": "python",
   "name": "python3"
  },
  "language_info": {
   "codemirror_mode": {
    "name": "ipython",
    "version": 3
   },
   "file_extension": ".py",
   "mimetype": "text/x-python",
   "name": "python",
   "nbconvert_exporter": "python",
   "pygments_lexer": "ipython3",
   "version": "3.6.7"
  }
 },
 "nbformat": 4,
 "nbformat_minor": 2
}
